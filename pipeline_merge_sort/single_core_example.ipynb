{
 "cells": [
  {
   "cell_type": "code",
   "execution_count": 1,
   "metadata": {},
   "outputs": [],
   "source": [
    "import numpy as np\n",
    "import datetime"
   ]
  },
  {
   "cell_type": "markdown",
   "metadata": {},
   "source": [
    "Randomly generate `2^N` integer values without replacement, in order to sort on `N` CPUs."
   ]
  },
  {
   "cell_type": "code",
   "execution_count": 2,
   "metadata": {},
   "outputs": [
    {
     "data": {
      "text/plain": [
       "array([1, 5, 0, 7, 2, 4, 3, 6])"
      ]
     },
     "execution_count": 2,
     "metadata": {},
     "output_type": "execute_result"
    }
   ],
   "source": [
    "np.random.seed(42)\n",
    "\n",
    "N = 3\n",
    "ARRAY_SIZE = 1 << N # 2^N\n",
    "unsorted_array = np.random.choice(ARRAY_SIZE, ARRAY_SIZE, replace=False)\n",
    "unsorted_array"
   ]
  },
  {
   "cell_type": "markdown",
   "metadata": {},
   "source": [
    "1st CPU (`CPU 0`) just splits the numbers into 2 streams as they are loaded.\n",
    "```\n",
    "input: 1, 5, 0, 7, 2, 4, 3, 6\n",
    "\n",
    "output:\n",
    "top: 1, 0, 2, 3\n",
    "bot: 5, 7, 4, 6\n",
    "```"
   ]
  },
  {
   "cell_type": "code",
   "execution_count": 3,
   "metadata": {},
   "outputs": [
    {
     "data": {
      "text/plain": [
       "(array([1, 0, 2, 3]), array([5, 7, 4, 6]))"
      ]
     },
     "execution_count": 3,
     "metadata": {},
     "output_type": "execute_result"
    }
   ],
   "source": [
    "top_stream1 = unsorted_array[0::2]\n",
    "bot_stream1 = unsorted_array[1::2]\n",
    "top_stream1, bot_stream1"
   ]
  },
  {
   "cell_type": "markdown",
   "metadata": {},
   "source": [
    "2nd CPU (`CPU 1`) reads batches from the streams of length `2^(1-1) = 1` and merge-sorts them into batches of `2^1 = 2`, which are then send in an alternating manner to the 2 output streams.\n",
    "```\n",
    "input:\n",
    "top: 1, 0, 2, 3\n",
    "bot: 5, 7, 4, 6\n",
    "\n",
    "step 1:\n",
    "1:5 -> 1\n",
    " :5 -> 5\n",
    "top: 1, 5\n",
    "bot:\n",
    "\n",
    "step 2:\n",
    "0:7 -> 0\n",
    " :7 -> 7\n",
    "top: 1, 5\n",
    "bot: 0, 7\n",
    "\n",
    "step 3:\n",
    "2:4 -> 2\n",
    " :4 -> 4\n",
    "top: 1, 5, 2, 4\n",
    "bot: 0, 7\n",
    "\n",
    "step 4:\n",
    "3:6 -> 3\n",
    " :6 -> 6\n",
    "top: 1, 5, 2, 4\n",
    "bot: 0, 7, 3, 6\n",
    "```"
   ]
  },
  {
   "cell_type": "code",
   "execution_count": 4,
   "metadata": {},
   "outputs": [
    {
     "data": {
      "text/plain": [
       "(array([1, 5, 2, 4]), array([0, 7, 3, 6]))"
      ]
     },
     "execution_count": 4,
     "metadata": {},
     "output_type": "execute_result"
    }
   ],
   "source": [
    "top_stream2 = np.zeros_like(top_stream1)\n",
    "bot_stream2 = np.zeros_like(bot_stream1)\n",
    "\n",
    "streams2 = [top_stream2, bot_stream2]\n",
    "\n",
    "input_batch_size = 1 << (1 - 1)\n",
    "output_batch_size = 1 << (1)\n",
    "input_start = 0\n",
    "input_stop = input_batch_size\n",
    "output_start = 0\n",
    "output_stop = output_batch_size\n",
    "output_stream = 0\n",
    "sorted_batch = np.zeros(output_batch_size, dtype=int)\n",
    "\n",
    "while input_start < ARRAY_SIZE >> 1:\n",
    "    top = top_stream1[input_start:input_stop]\n",
    "    bot = bot_stream1[input_start:input_stop]\n",
    "    if top[0] < bot[0]:\n",
    "        sorted_batch[0] = top[0]\n",
    "        sorted_batch[1] = bot[0]\n",
    "    else:\n",
    "        sorted_batch[0] = bot[0]\n",
    "        sorted_batch[1] = top[0]\n",
    "\n",
    "    streams2[output_stream][output_start:output_stop] = sorted_batch\n",
    "    output_stream = 1 - output_stream\n",
    "    input_start += input_batch_size\n",
    "    input_stop += input_batch_size\n",
    "    if output_stream == 0:\n",
    "        output_start += output_batch_size\n",
    "        output_stop += output_batch_size\n",
    "\n",
    "top_stream2, bot_stream2"
   ]
  },
  {
   "cell_type": "markdown",
   "metadata": {},
   "source": [
    "3rd CPU (`CPU 2`) reads batches from the input streams of length `2^(2-1) = 2` and merge-sorts them into batches of `2^2 = 4`, which are then send in an alternating manner to the 2 output streams.\n",
    "```\n",
    "input:\n",
    "top: 1, 5, 2, 4\n",
    "bot: 0, 7, 3, 6\n",
    "\n",
    "step 1:\n",
    "0:1 -> 0\n",
    "1:7 -> 1\n",
    "5:7 -> 5\n",
    " :7 -> 7\n",
    "top: 0, 1, 5, 7\n",
    "bot: \n",
    "\n",
    "step 2:\n",
    "2:3 -> 2\n",
    "3:4 -> 3\n",
    "4:6 -> 4\n",
    " :6 -> 6 \n",
    "top: 0, 1, 5, 7\n",
    "bot: 2, 3, 4, 6\n",
    "```"
   ]
  },
  {
   "cell_type": "code",
   "execution_count": 5,
   "metadata": {},
   "outputs": [
    {
     "data": {
      "text/plain": [
       "(array([0, 1, 5, 7]), array([2, 3, 4, 6]))"
      ]
     },
     "execution_count": 5,
     "metadata": {},
     "output_type": "execute_result"
    }
   ],
   "source": [
    "top_stream3 = np.zeros_like(top_stream2)\n",
    "bot_stream3 = np.zeros_like(bot_stream2)\n",
    "\n",
    "streams3 = [top_stream3, bot_stream3]\n",
    "\n",
    "input_batch_size = 1 << (2 - 1)\n",
    "output_batch_size = 1 << (2)\n",
    "input_start = 0\n",
    "input_stop = input_batch_size\n",
    "output_start = 0\n",
    "output_stop = output_batch_size\n",
    "output_stream = 0\n",
    "sorted_batch = np.zeros(output_batch_size, dtype=int)\n",
    "\n",
    "while input_start < ARRAY_SIZE >> 1:\n",
    "    top = top_stream2[input_start:input_stop]\n",
    "    bot = bot_stream2[input_start:input_stop]\n",
    "    i, j, k = 0, 0, 0\n",
    "    while k < output_batch_size:\n",
    "        if i < input_batch_size and j < input_batch_size:\n",
    "            if top[i] < bot[j]:\n",
    "                sorted_batch[k] = top[i]\n",
    "                i += 1\n",
    "            else:\n",
    "                sorted_batch[k] = bot[j]\n",
    "                j += 1\n",
    "        elif i < input_batch_size:\n",
    "            sorted_batch[k] = top[i]\n",
    "            i += 1\n",
    "        else:\n",
    "            sorted_batch[k] = bot[j]\n",
    "            j += 1\n",
    "        k += 1\n",
    "\n",
    "    streams3[output_stream][output_start:output_stop] = sorted_batch\n",
    "    output_stream = 1 - output_stream\n",
    "    input_start += input_batch_size\n",
    "    input_stop += input_batch_size\n",
    "    if output_stream == 0:\n",
    "        output_start += output_batch_size\n",
    "        output_stop += output_batch_size\n",
    "\n",
    "top_stream3, bot_stream3"
   ]
  },
  {
   "cell_type": "markdown",
   "metadata": {},
   "source": [
    "Last CPU (`CPU 3`) reads batches from the input streams of length `2^(3-1) = 4` and merge-sorts them into a single batch of size `2^3 = 8`.\n",
    "```\n",
    "input:\n",
    "top: 0, 1, 5, 7\n",
    "bot: 2, 3, 4, 6\n",
    "\n",
    "output:\n",
    "0:2 -> 0\n",
    "1:2 -> 1\n",
    "5:2 -> 2\n",
    "5:3 -> 3\n",
    "5:4 -> 4\n",
    "5:6 -> 5\n",
    "7:6 -> 6\n",
    "7:  -> 7\n",
    "sorted_array: 0, 1, 2, 3, 4, 5, 6, 7\n",
    "```"
   ]
  },
  {
   "cell_type": "code",
   "execution_count": 6,
   "metadata": {},
   "outputs": [
    {
     "data": {
      "text/plain": [
       "array([0, 1, 2, 3, 4, 5, 6, 7])"
      ]
     },
     "execution_count": 6,
     "metadata": {},
     "output_type": "execute_result"
    }
   ],
   "source": [
    "sorted_array = np.zeros_like(unsorted_array)\n",
    "\n",
    "input_batch_size = 1 << (3 - 1)\n",
    "output_batch_size = 1 << (3)\n",
    "input_start = 0\n",
    "input_stop = input_batch_size\n",
    "output_start = 0\n",
    "output_stop = output_batch_size\n",
    "output_stream = 0\n",
    "sorted_batch = np.zeros(output_batch_size, dtype=int)\n",
    "\n",
    "while input_start < ARRAY_SIZE >> 1:\n",
    "    top = top_stream3[input_start:input_stop]\n",
    "    bot = bot_stream3[input_start:input_stop]\n",
    "    i, j, k = 0, 0, 0\n",
    "    while k < output_batch_size:\n",
    "        if i < input_batch_size and j < input_batch_size:\n",
    "            if top[i] < bot[j]:\n",
    "                sorted_batch[k] = top[i]\n",
    "                i += 1\n",
    "            else:\n",
    "                sorted_batch[k] = bot[j]\n",
    "                j += 1\n",
    "        elif i < input_batch_size:\n",
    "            sorted_batch[k] = top[i]\n",
    "            i += 1\n",
    "        else:\n",
    "            sorted_batch[k] = bot[j]\n",
    "            j += 1\n",
    "        k += 1\n",
    "\n",
    "    sorted_array[output_start:output_stop] = sorted_batch\n",
    "    output_stream = 1 - output_stream\n",
    "    input_start += input_batch_size\n",
    "    input_stop += input_batch_size\n",
    "    if output_stream == 0:\n",
    "        output_start += output_batch_size\n",
    "        output_stop += output_batch_size\n",
    "\n",
    "sorted_array"
   ]
  },
  {
   "cell_type": "markdown",
   "metadata": {},
   "source": [
    "Solution for any `N`."
   ]
  },
  {
   "cell_type": "code",
   "execution_count": 9,
   "metadata": {},
   "outputs": [
    {
     "name": "stdout",
     "output_type": "stream",
     "text": [
      "[ 194 2201 3172 ... 3412 1734 2036]\n",
      "[   0    1    2 ... 4093 4094 4095]\n"
     ]
    },
    {
     "data": {
      "text/plain": [
       "True"
      ]
     },
     "execution_count": 9,
     "metadata": {},
     "output_type": "execute_result"
    }
   ],
   "source": [
    "np.random.seed(int(datetime.datetime.utcnow().timestamp()))\n",
    "\n",
    "N = 12\n",
    "ARRAY_SIZE = 1 << N\n",
    "unsorted_array = np.random.choice(ARRAY_SIZE, ARRAY_SIZE, replace=False)\n",
    "sorted_array = None # will be generated\n",
    "print(unsorted_array)\n",
    "\n",
    "# 1st CPU\n",
    "top_stream_a = unsorted_array[0::2]\n",
    "bot_stream_a = unsorted_array[1::2]\n",
    "\n",
    "top_stream_b = np.zeros_like(top_stream_a)\n",
    "bot_stream_b = np.zeros_like(bot_stream_a)\n",
    "\n",
    "streams = ((top_stream_a, bot_stream_a), (top_stream_b, bot_stream_b))\n",
    "\n",
    "# N CPUs that can be run in a pipeline\n",
    "for n in range(1, N+1):\n",
    "    # ping-pong between the two streams (necessary for a single CPU implementation)\n",
    "    top_stream, bot_stream = streams[~(n & 1)]\n",
    "    output_streams = streams[n & 1]\n",
    "\n",
    "    input_batch_size = 1 << (n - 1)\n",
    "    output_batch_size = 1 << (n)\n",
    "    input_start = 0\n",
    "    input_stop = input_batch_size\n",
    "    output_start = 0\n",
    "    output_stop = output_batch_size\n",
    "    # ping-pong between the two output streams\n",
    "    output_stream = 0\n",
    "    sorted_batch = np.zeros(output_batch_size, dtype=int)\n",
    "\n",
    "    # merge sorting of the two streams using batches\n",
    "    while input_start < ARRAY_SIZE >> 1:\n",
    "        top = top_stream[input_start:input_stop]\n",
    "        bot = bot_stream[input_start:input_stop]\n",
    "        i, j, k = 0, 0, 0\n",
    "        while k < output_batch_size:\n",
    "            if i < input_batch_size and j < input_batch_size:\n",
    "                if top[i] < bot[j]:\n",
    "                    sorted_batch[k] = top[i]\n",
    "                    i += 1\n",
    "                else:\n",
    "                    sorted_batch[k] = bot[j]\n",
    "                    j += 1\n",
    "            elif i < input_batch_size:\n",
    "                sorted_batch[k] = top[i]\n",
    "                i += 1\n",
    "            else:\n",
    "                sorted_batch[k] = bot[j]\n",
    "                j += 1\n",
    "            k += 1\n",
    "\n",
    "        if n == N: # last CPU writes to the final sorted array\n",
    "            sorted_array = sorted_batch \n",
    "        else:\n",
    "            output_streams[output_stream][output_start:output_stop] = sorted_batch\n",
    "\n",
    "        output_stream = 1 - output_stream\n",
    "        input_start += input_batch_size\n",
    "        input_stop += input_batch_size\n",
    "        if output_stream == 0:\n",
    "            output_start += output_batch_size\n",
    "            output_stop += output_batch_size\n",
    "\n",
    "print(sorted_array)\n",
    "# check against numpy's sort\n",
    "np.array_equal(sorted_array, np.sort(unsorted_array))"
   ]
  }
 ],
 "metadata": {
  "kernelspec": {
   "display_name": "Python 3",
   "language": "python",
   "name": "python3"
  },
  "language_info": {
   "codemirror_mode": {
    "name": "ipython",
    "version": 3
   },
   "file_extension": ".py",
   "mimetype": "text/x-python",
   "name": "python",
   "nbconvert_exporter": "python",
   "pygments_lexer": "ipython3",
   "version": "3.10.12"
  },
  "orig_nbformat": 4
 },
 "nbformat": 4,
 "nbformat_minor": 2
}
